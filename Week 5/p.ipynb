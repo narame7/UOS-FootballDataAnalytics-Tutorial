{
 "cells": [
  {
   "cell_type": "code",
   "execution_count": 1,
   "id": "7d9887fc",
   "metadata": {},
   "outputs": [
    {
     "name": "stdout",
     "output_type": "stream",
     "text": [
      "metadata.widgets 제거 완료!\n"
     ]
    }
   ],
   "source": [
    "import json\n",
    "\n",
    "notebook_path = \"1-event-data-machine-learning.ipynb\"\n",
    "\n",
    "# Notebook 열기\n",
    "with open(notebook_path, \"r\", encoding=\"utf-8\") as f:\n",
    "    nb = json.load(f)\n",
    "\n",
    "# widgets metadata 제거\n",
    "if \"widgets\" in nb.get(\"metadata\", {}):\n",
    "    del nb[\"metadata\"][\"widgets\"]\n",
    "\n",
    "# 각 셀의 widgets metadata 제거\n",
    "for cell in nb.get(\"cells\", []):\n",
    "    if \"metadata\" in cell and \"widgets\" in cell[\"metadata\"]:\n",
    "        del cell[\"metadata\"][\"widgets\"]\n",
    "\n",
    "# 저장\n",
    "with open(notebook_path, \"w\", encoding=\"utf-8\") as f:\n",
    "    json.dump(nb, f, indent=1, ensure_ascii=False)\n",
    "\n",
    "print(\"metadata.widgets 제거 완료!\")"
   ]
  }
 ],
 "metadata": {
  "kernelspec": {
   "display_name": "epv",
   "language": "python",
   "name": "python3"
  },
  "language_info": {
   "codemirror_mode": {
    "name": "ipython",
    "version": 3
   },
   "file_extension": ".py",
   "mimetype": "text/x-python",
   "name": "python",
   "nbconvert_exporter": "python",
   "pygments_lexer": "ipython3",
   "version": "3.9.21"
  }
 },
 "nbformat": 4,
 "nbformat_minor": 5
}
